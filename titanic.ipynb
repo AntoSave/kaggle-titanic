{
 "cells": [
  {
   "attachments": {},
   "cell_type": "markdown",
   "metadata": {},
   "source": [
    "Use machine learning to create a model that predicts which passengers survived the Titanic shipwreck.\n",
    "\n",
    "### Importing packages"
   ]
  },
  {
   "cell_type": "code",
   "execution_count": 5,
   "metadata": {},
   "outputs": [],
   "source": [
    "import matplotlib.pyplot as plt\n",
    "import pandas as pd\n",
    "import seaborn as sns\n",
    "import numpy as np\n",
    "\n",
    "import torch\n",
    "from torch import nn"
   ]
  },
  {
   "cell_type": "code",
   "execution_count": 4,
   "metadata": {},
   "outputs": [
    {
     "name": "stdout",
     "output_type": "stream",
     "text": [
      "PyTorch version: 2.0.0\n",
      "You have 1 GPUs\n",
      "The selected GPU is GPU 0\n",
      "- Name: NVIDIA GeForce RTX 3080 Ti\n",
      "- All properties: _CudaDeviceProperties(name='NVIDIA GeForce RTX 3080 Ti', major=8, minor=6, total_memory=12287MB, multi_processor_count=80)\n"
     ]
    }
   ],
   "source": [
    "import torch\n",
    "print('PyTorch version:', torch.__version__)\n",
    "if torch.cuda.is_available():\n",
    "  print(\"You have %d GPUs\" % torch.cuda.device_count())\n",
    "  gpu_id = torch.cuda.current_device()\n",
    "  print(\"The selected GPU is GPU\", gpu_id)\n",
    "  print(\"- Name:\", torch.cuda.get_device_name(gpu_id))\n",
    "  print(\"- All properties:\",torch.cuda.get_device_properties(gpu_id))"
   ]
  },
  {
   "attachments": {},
   "cell_type": "markdown",
   "metadata": {},
   "source": [
    "### Data loading and preprocessing"
   ]
  },
  {
   "cell_type": "code",
   "execution_count": 29,
   "metadata": {},
   "outputs": [
    {
     "data": {
      "text/html": [
       "<div>\n",
       "<style scoped>\n",
       "    .dataframe tbody tr th:only-of-type {\n",
       "        vertical-align: middle;\n",
       "    }\n",
       "\n",
       "    .dataframe tbody tr th {\n",
       "        vertical-align: top;\n",
       "    }\n",
       "\n",
       "    .dataframe thead th {\n",
       "        text-align: right;\n",
       "    }\n",
       "</style>\n",
       "<table border=\"1\" class=\"dataframe\">\n",
       "  <thead>\n",
       "    <tr style=\"text-align: right;\">\n",
       "      <th></th>\n",
       "      <th>PassengerId</th>\n",
       "      <th>Survived</th>\n",
       "      <th>TicketClass</th>\n",
       "      <th>Name</th>\n",
       "      <th>Sex</th>\n",
       "      <th>Age</th>\n",
       "      <th>SiblingsSpouses</th>\n",
       "      <th>ParentChildren</th>\n",
       "      <th>TicketNumber</th>\n",
       "      <th>Fare</th>\n",
       "      <th>Cabin</th>\n",
       "      <th>Embarked</th>\n",
       "    </tr>\n",
       "  </thead>\n",
       "  <tbody>\n",
       "    <tr>\n",
       "      <th>886</th>\n",
       "      <td>887</td>\n",
       "      <td>0</td>\n",
       "      <td>2</td>\n",
       "      <td>Montvila, Rev. Juozas</td>\n",
       "      <td>male</td>\n",
       "      <td>27.0</td>\n",
       "      <td>0</td>\n",
       "      <td>0</td>\n",
       "      <td>211536</td>\n",
       "      <td>13.00</td>\n",
       "      <td>NaN</td>\n",
       "      <td>S</td>\n",
       "    </tr>\n",
       "    <tr>\n",
       "      <th>887</th>\n",
       "      <td>888</td>\n",
       "      <td>1</td>\n",
       "      <td>1</td>\n",
       "      <td>Graham, Miss. Margaret Edith</td>\n",
       "      <td>female</td>\n",
       "      <td>19.0</td>\n",
       "      <td>0</td>\n",
       "      <td>0</td>\n",
       "      <td>112053</td>\n",
       "      <td>30.00</td>\n",
       "      <td>B42</td>\n",
       "      <td>S</td>\n",
       "    </tr>\n",
       "    <tr>\n",
       "      <th>888</th>\n",
       "      <td>889</td>\n",
       "      <td>0</td>\n",
       "      <td>3</td>\n",
       "      <td>Johnston, Miss. Catherine Helen \"Carrie\"</td>\n",
       "      <td>female</td>\n",
       "      <td>NaN</td>\n",
       "      <td>1</td>\n",
       "      <td>2</td>\n",
       "      <td>W./C. 6607</td>\n",
       "      <td>23.45</td>\n",
       "      <td>NaN</td>\n",
       "      <td>S</td>\n",
       "    </tr>\n",
       "    <tr>\n",
       "      <th>889</th>\n",
       "      <td>890</td>\n",
       "      <td>1</td>\n",
       "      <td>1</td>\n",
       "      <td>Behr, Mr. Karl Howell</td>\n",
       "      <td>male</td>\n",
       "      <td>26.0</td>\n",
       "      <td>0</td>\n",
       "      <td>0</td>\n",
       "      <td>111369</td>\n",
       "      <td>30.00</td>\n",
       "      <td>C148</td>\n",
       "      <td>C</td>\n",
       "    </tr>\n",
       "    <tr>\n",
       "      <th>890</th>\n",
       "      <td>891</td>\n",
       "      <td>0</td>\n",
       "      <td>3</td>\n",
       "      <td>Dooley, Mr. Patrick</td>\n",
       "      <td>male</td>\n",
       "      <td>32.0</td>\n",
       "      <td>0</td>\n",
       "      <td>0</td>\n",
       "      <td>370376</td>\n",
       "      <td>7.75</td>\n",
       "      <td>NaN</td>\n",
       "      <td>Q</td>\n",
       "    </tr>\n",
       "  </tbody>\n",
       "</table>\n",
       "</div>"
      ],
      "text/plain": [
       "     PassengerId  Survived  TicketClass  \\\n",
       "886          887         0            2   \n",
       "887          888         1            1   \n",
       "888          889         0            3   \n",
       "889          890         1            1   \n",
       "890          891         0            3   \n",
       "\n",
       "                                         Name     Sex   Age  SiblingsSpouses  \\\n",
       "886                     Montvila, Rev. Juozas    male  27.0                0   \n",
       "887              Graham, Miss. Margaret Edith  female  19.0                0   \n",
       "888  Johnston, Miss. Catherine Helen \"Carrie\"  female   NaN                1   \n",
       "889                     Behr, Mr. Karl Howell    male  26.0                0   \n",
       "890                       Dooley, Mr. Patrick    male  32.0                0   \n",
       "\n",
       "     ParentChildren TicketNumber   Fare Cabin Embarked  \n",
       "886               0       211536  13.00   NaN        S  \n",
       "887               0       112053  30.00   B42        S  \n",
       "888               2   W./C. 6607  23.45   NaN        S  \n",
       "889               0       111369  30.00  C148        C  \n",
       "890               0       370376   7.75   NaN        Q  "
      ]
     },
     "execution_count": 29,
     "metadata": {},
     "output_type": "execute_result"
    }
   ],
   "source": [
    "column_names = ['PassengerId','Survived','TicketClass','Name','Sex','Age','SiblingsSpouses','ParentChildren','TicketNumber','Fare','Cabin','Embarked']\n",
    "raw_data_train = pd.read_csv('train.csv', header=0, names=column_names, delimiter=\",\", skipinitialspace=True) #header=0 + names allows to override headers\n",
    "\n",
    "column_names = ['PassengerId','TicketClass','Name','Sex','Age','SiblingsSpouses','ParentChildren','TicketNumber','Fare','Cabin','Embarked']\n",
    "raw_data_test = pd.read_csv('train.csv', header=0, names=column_names, delimiter=\",\", skipinitialspace=True) #header=0 + names allows to override headers\n",
    "\n",
    "raw_data_train.tail()"
   ]
  },
  {
   "attachments": {},
   "cell_type": "markdown",
   "metadata": {},
   "source": [
    "Now we'll analyze the data in the training set:"
   ]
  },
  {
   "cell_type": "code",
   "execution_count": 25,
   "metadata": {},
   "outputs": [
    {
     "data": {
      "text/plain": [
       "PassengerId        0.000000\n",
       "Survived           0.000000\n",
       "TicketClass        0.000000\n",
       "Name               0.000000\n",
       "Sex                0.000000\n",
       "Age                0.198653\n",
       "SiblingsSpouses    0.000000\n",
       "ParentChildren     0.000000\n",
       "TicketNumber       0.000000\n",
       "Fare               0.000000\n",
       "Cabin              0.771044\n",
       "Embarked           0.002245\n",
       "dtype: float64"
      ]
     },
     "execution_count": 25,
     "metadata": {},
     "output_type": "execute_result"
    }
   ],
   "source": [
    "raw_data_train.isna().sum()/len(raw_data_train)"
   ]
  },
  {
   "cell_type": "code",
   "execution_count": null,
   "metadata": {},
   "outputs": [],
   "source": [
    "sns.pairplot(raw_data_train[[\"Survived\", \"TicketClass\", \"Sex\", \"SiblingsSpouses\", \"ParentChildren\", \"Fare\", \"Cabin\", \"Embarked\"]], diag_kind=\"hist\")\n",
    "plt.show()"
   ]
  },
  {
   "attachments": {},
   "cell_type": "markdown",
   "metadata": {},
   "source": [
    "After inspecting the dataset, the following considerations can be made:\n",
    "- PassengerId and TicketNumer are apparently useless features for the task so we'll drop them\n",
    "- The cabin attribute is unknown for 77% of the samples, so we'll drop the feature\n",
    "- We'll drop the two samples without embarkment informations\n",
    "- Even if for almost 20% of the dataset the age is unknown, it is probably an important feature, so we'll drop the samples without age info for semplicity\n",
    "- We must use One-Hot Encoding for the categorical features 'TicketClass', 'Sex' and 'Embarked'\n",
    "- We can extract useful information about the social status of the person from the Name attribute\n",
    "\n",
    "We define a function to preprocess raw data. It will be used to preprocess both the training set and later the test set:"
   ]
  },
  {
   "cell_type": "code",
   "execution_count": 55,
   "metadata": {},
   "outputs": [
    {
     "name": "stdout",
     "output_type": "stream",
     "text": [
      "['Mr' 'Mrs' 'Miss' 'Master' 'Don' 'Rev' 'Dr' 'Mme' 'Ms' 'Major' 'Lady'\n",
      " 'Sir' 'Mlle' 'Col' 'Capt' 'the Countess' 'Jonkheer']\n"
     ]
    },
    {
     "data": {
      "text/plain": [
       "Survived                                            288.000\n",
       "Age                                               21105.170\n",
       "SiblingsSpouses                                     366.000\n",
       "ParentChildren                                      308.000\n",
       "Fare                                              24611.883\n",
       "Male                                                453.000\n",
       "Female                                              259.000\n",
       "UpperClass                                          184.000\n",
       "MiddleClass                                         173.000\n",
       "LowerClass                                          355.000\n",
       "CherbourgPort                                       130.000\n",
       "QueenstownPort                                       28.000\n",
       "SouthamptonPort                                     554.000\n",
       "Mr                                                  398.000\n",
       "Miss/Mrs/Ms/Lady                                    257.000\n",
       "Master                                               36.000\n",
       "Rev/Dr/Major/Col/Contess/Capt/Sir/Don/Jonkheer       21.000\n",
       "dtype: float64"
      ]
     },
     "execution_count": 55,
     "metadata": {},
     "output_type": "execute_result"
    }
   ],
   "source": [
    "def preprocess_raw_data(raw_data: pd.DataFrame):\n",
    "  data = raw_data.copy()\n",
    "  #Drop unnecessary features\n",
    "  data = data.drop(['PassengerId','TicketNumber','Cabin'],axis=1)\n",
    "  #Drop samples without age or without embarkment info\n",
    "  data = data.dropna()\n",
    "  #One-Hot encode categorical features\n",
    "  sex = data.pop('Sex')\n",
    "  data['Male'] = (sex == 'male') * 1.0\n",
    "  data['Female'] = (sex == 'female') * 1.0\n",
    "  tClass = data.pop('TicketClass')\n",
    "  data['UpperClass'] = (tClass == 1) * 1.0\n",
    "  data['MiddleClass'] = (tClass == 2) * 1.0\n",
    "  data['LowerClass'] = (tClass == 3) * 1.0\n",
    "  embarked = data.pop('Embarked')\n",
    "  data['CherbourgPort'] = (embarked == 'C') * 1.0\n",
    "  data['QueenstownPort'] = (embarked == 'Q') * 1.0\n",
    "  data['SouthamptonPort'] = (embarked == 'S') * 1.0\n",
    "  #Extract the title from the name\n",
    "  titles = data.pop('Name').str.split(', ', expand=True)[1].str.split('.', expand=True)[0]\n",
    "  data['Mr'] = (titles == 'Mr') * 1.0\n",
    "  data['Miss/Mrs/Ms/Lady'] = ((titles == 'Miss') | (titles == 'Mrs') | (titles == 'Ms') | (titles == 'Lady') | (titles == 'Mme') | (titles == 'Mlle')) * 1.0\n",
    "  data['Master'] = (titles == 'Master') * 1.0\n",
    "  data['Rev/Dr/Major/Col/Contess/Capt/Sir/Don/Jonkheer'] = ((titles == 'Rev') | (titles == 'Dr') | (titles == 'Major') | (titles == 'Col') | (titles == 'the Countess') | (titles == 'Capt') | (titles == 'Sir') | (titles == 'Don') | (titles == 'Jonkheer') ) * 1.0\n",
    "  return data\n",
    "\n",
    "train_data = preprocess_raw_data(raw_data_train)\n",
    "train_data.tail()\n",
    "train_data.sum()\n"
   ]
  },
  {
   "cell_type": "code",
   "execution_count": 45,
   "metadata": {},
   "outputs": [
    {
     "ename": "KeyboardInterrupt",
     "evalue": "",
     "output_type": "error",
     "traceback": [
      "\u001b[0;31m---------------------------------------------------------------------------\u001b[0m",
      "\u001b[0;31mKeyboardInterrupt\u001b[0m                         Traceback (most recent call last)",
      "Cell \u001b[0;32mIn[45], line 2\u001b[0m\n\u001b[1;32m      1\u001b[0m fig, ax \u001b[39m=\u001b[39m plt\u001b[39m.\u001b[39msubplots()\n\u001b[0;32m----> 2\u001b[0m train_data\u001b[39m.\u001b[39;49mvalue_counts()\u001b[39m.\u001b[39;49mplot(ax\u001b[39m=\u001b[39;49max, kind\u001b[39m=\u001b[39;49m\u001b[39m'\u001b[39;49m\u001b[39mbar\u001b[39;49m\u001b[39m'\u001b[39;49m, xlabel\u001b[39m=\u001b[39;49m\u001b[39m'\u001b[39;49m\u001b[39mnumbers\u001b[39;49m\u001b[39m'\u001b[39;49m, ylabel\u001b[39m=\u001b[39;49m\u001b[39m'\u001b[39;49m\u001b[39mfrequency\u001b[39;49m\u001b[39m'\u001b[39;49m)\n\u001b[1;32m      3\u001b[0m plt\u001b[39m.\u001b[39mshow()\n",
      "File \u001b[0;32m~/miniconda3/lib/python3.9/site-packages/pandas/plotting/_core.py:1000\u001b[0m, in \u001b[0;36mPlotAccessor.__call__\u001b[0;34m(self, *args, **kwargs)\u001b[0m\n\u001b[1;32m    997\u001b[0m             label_name \u001b[39m=\u001b[39m label_kw \u001b[39mor\u001b[39;00m data\u001b[39m.\u001b[39mcolumns\n\u001b[1;32m    998\u001b[0m             data\u001b[39m.\u001b[39mcolumns \u001b[39m=\u001b[39m label_name\n\u001b[0;32m-> 1000\u001b[0m \u001b[39mreturn\u001b[39;00m plot_backend\u001b[39m.\u001b[39;49mplot(data, kind\u001b[39m=\u001b[39;49mkind, \u001b[39m*\u001b[39;49m\u001b[39m*\u001b[39;49mkwargs)\n",
      "File \u001b[0;32m~/miniconda3/lib/python3.9/site-packages/pandas/plotting/_matplotlib/__init__.py:71\u001b[0m, in \u001b[0;36mplot\u001b[0;34m(data, kind, **kwargs)\u001b[0m\n\u001b[1;32m     69\u001b[0m         kwargs[\u001b[39m\"\u001b[39m\u001b[39max\u001b[39m\u001b[39m\"\u001b[39m] \u001b[39m=\u001b[39m \u001b[39mgetattr\u001b[39m(ax, \u001b[39m\"\u001b[39m\u001b[39mleft_ax\u001b[39m\u001b[39m\"\u001b[39m, ax)\n\u001b[1;32m     70\u001b[0m plot_obj \u001b[39m=\u001b[39m PLOT_CLASSES[kind](data, \u001b[39m*\u001b[39m\u001b[39m*\u001b[39mkwargs)\n\u001b[0;32m---> 71\u001b[0m plot_obj\u001b[39m.\u001b[39;49mgenerate()\n\u001b[1;32m     72\u001b[0m plot_obj\u001b[39m.\u001b[39mdraw()\n\u001b[1;32m     73\u001b[0m \u001b[39mreturn\u001b[39;00m plot_obj\u001b[39m.\u001b[39mresult\n",
      "File \u001b[0;32m~/miniconda3/lib/python3.9/site-packages/pandas/plotting/_matplotlib/core.py:459\u001b[0m, in \u001b[0;36mMPLPlot.generate\u001b[0;34m(self)\u001b[0m\n\u001b[1;32m    457\u001b[0m \u001b[39mfor\u001b[39;00m ax \u001b[39min\u001b[39;00m \u001b[39mself\u001b[39m\u001b[39m.\u001b[39maxes:\n\u001b[1;32m    458\u001b[0m     \u001b[39mself\u001b[39m\u001b[39m.\u001b[39m_post_plot_logic_common(ax, \u001b[39mself\u001b[39m\u001b[39m.\u001b[39mdata)\n\u001b[0;32m--> 459\u001b[0m     \u001b[39mself\u001b[39;49m\u001b[39m.\u001b[39;49m_post_plot_logic(ax, \u001b[39mself\u001b[39;49m\u001b[39m.\u001b[39;49mdata)\n",
      "File \u001b[0;32m~/miniconda3/lib/python3.9/site-packages/pandas/plotting/_matplotlib/core.py:1742\u001b[0m, in \u001b[0;36mBarPlot._post_plot_logic\u001b[0;34m(self, ax, data)\u001b[0m\n\u001b[1;32m   1739\u001b[0m s_edge \u001b[39m=\u001b[39m \u001b[39mself\u001b[39m\u001b[39m.\u001b[39max_pos[\u001b[39m0\u001b[39m] \u001b[39m-\u001b[39m \u001b[39m0.25\u001b[39m \u001b[39m+\u001b[39m \u001b[39mself\u001b[39m\u001b[39m.\u001b[39mlim_offset\n\u001b[1;32m   1740\u001b[0m e_edge \u001b[39m=\u001b[39m \u001b[39mself\u001b[39m\u001b[39m.\u001b[39max_pos[\u001b[39m-\u001b[39m\u001b[39m1\u001b[39m] \u001b[39m+\u001b[39m \u001b[39m0.25\u001b[39m \u001b[39m+\u001b[39m \u001b[39mself\u001b[39m\u001b[39m.\u001b[39mbar_width \u001b[39m+\u001b[39m \u001b[39mself\u001b[39m\u001b[39m.\u001b[39mlim_offset\n\u001b[0;32m-> 1742\u001b[0m \u001b[39mself\u001b[39;49m\u001b[39m.\u001b[39;49m_decorate_ticks(ax, \u001b[39mself\u001b[39;49m\u001b[39m.\u001b[39;49m_get_index_name(), str_index, s_edge, e_edge)\n",
      "File \u001b[0;32m~/miniconda3/lib/python3.9/site-packages/pandas/plotting/_matplotlib/core.py:1750\u001b[0m, in \u001b[0;36mBarPlot._decorate_ticks\u001b[0;34m(self, ax, name, ticklabels, start_edge, end_edge)\u001b[0m\n\u001b[1;32m   1748\u001b[0m     ax\u001b[39m.\u001b[39mset_xticks(np\u001b[39m.\u001b[39marray(\u001b[39mself\u001b[39m\u001b[39m.\u001b[39mxticks))\n\u001b[1;32m   1749\u001b[0m \u001b[39melse\u001b[39;00m:\n\u001b[0;32m-> 1750\u001b[0m     ax\u001b[39m.\u001b[39;49mset_xticks(\u001b[39mself\u001b[39;49m\u001b[39m.\u001b[39;49mtick_pos)\n\u001b[1;32m   1751\u001b[0m     ax\u001b[39m.\u001b[39mset_xticklabels(ticklabels)\n\u001b[1;32m   1753\u001b[0m \u001b[39mif\u001b[39;00m name \u001b[39mis\u001b[39;00m \u001b[39mnot\u001b[39;00m \u001b[39mNone\u001b[39;00m \u001b[39mand\u001b[39;00m \u001b[39mself\u001b[39m\u001b[39m.\u001b[39muse_index:\n",
      "File \u001b[0;32m~/miniconda3/lib/python3.9/site-packages/matplotlib/axes/_base.py:74\u001b[0m, in \u001b[0;36m_axis_method_wrapper.__set_name__.<locals>.wrapper\u001b[0;34m(self, *args, **kwargs)\u001b[0m\n\u001b[1;32m     73\u001b[0m \u001b[39mdef\u001b[39;00m \u001b[39mwrapper\u001b[39m(\u001b[39mself\u001b[39m, \u001b[39m*\u001b[39margs, \u001b[39m*\u001b[39m\u001b[39m*\u001b[39mkwargs):\n\u001b[0;32m---> 74\u001b[0m     \u001b[39mreturn\u001b[39;00m get_method(\u001b[39mself\u001b[39;49m)(\u001b[39m*\u001b[39;49margs, \u001b[39m*\u001b[39;49m\u001b[39m*\u001b[39;49mkwargs)\n",
      "File \u001b[0;32m~/miniconda3/lib/python3.9/site-packages/matplotlib/axis.py:2074\u001b[0m, in \u001b[0;36mAxis.set_ticks\u001b[0;34m(self, ticks, labels, minor, **kwargs)\u001b[0m\n\u001b[1;32m   2071\u001b[0m \u001b[39mif\u001b[39;00m labels \u001b[39mis\u001b[39;00m \u001b[39mNone\u001b[39;00m \u001b[39mand\u001b[39;00m kwargs:\n\u001b[1;32m   2072\u001b[0m     \u001b[39mraise\u001b[39;00m \u001b[39mValueError\u001b[39;00m(\u001b[39m'\u001b[39m\u001b[39mlabels argument cannot be None when \u001b[39m\u001b[39m'\u001b[39m\n\u001b[1;32m   2073\u001b[0m                      \u001b[39m'\u001b[39m\u001b[39mkwargs are passed\u001b[39m\u001b[39m'\u001b[39m)\n\u001b[0;32m-> 2074\u001b[0m result \u001b[39m=\u001b[39m \u001b[39mself\u001b[39;49m\u001b[39m.\u001b[39;49m_set_tick_locations(ticks, minor\u001b[39m=\u001b[39;49mminor)\n\u001b[1;32m   2075\u001b[0m \u001b[39mif\u001b[39;00m labels \u001b[39mis\u001b[39;00m \u001b[39mnot\u001b[39;00m \u001b[39mNone\u001b[39;00m:\n\u001b[1;32m   2076\u001b[0m     \u001b[39mself\u001b[39m\u001b[39m.\u001b[39mset_ticklabels(labels, minor\u001b[39m=\u001b[39mminor, \u001b[39m*\u001b[39m\u001b[39m*\u001b[39mkwargs)\n",
      "File \u001b[0;32m~/miniconda3/lib/python3.9/site-packages/matplotlib/axis.py:2035\u001b[0m, in \u001b[0;36mAxis._set_tick_locations\u001b[0;34m(self, ticks, minor)\u001b[0m\n\u001b[1;32m   2033\u001b[0m \u001b[39melse\u001b[39;00m:\n\u001b[1;32m   2034\u001b[0m     \u001b[39mself\u001b[39m\u001b[39m.\u001b[39mset_major_locator(locator)\n\u001b[0;32m-> 2035\u001b[0m     \u001b[39mreturn\u001b[39;00m \u001b[39mself\u001b[39;49m\u001b[39m.\u001b[39;49mget_major_ticks(\u001b[39mlen\u001b[39;49m(ticks))\n",
      "File \u001b[0;32m~/miniconda3/lib/python3.9/site-packages/matplotlib/axis.py:1602\u001b[0m, in \u001b[0;36mAxis.get_major_ticks\u001b[0;34m(self, numticks)\u001b[0m\n\u001b[1;32m   1598\u001b[0m     numticks \u001b[39m=\u001b[39m \u001b[39mlen\u001b[39m(\u001b[39mself\u001b[39m\u001b[39m.\u001b[39mget_majorticklocs())\n\u001b[1;32m   1600\u001b[0m \u001b[39mwhile\u001b[39;00m \u001b[39mlen\u001b[39m(\u001b[39mself\u001b[39m\u001b[39m.\u001b[39mmajorTicks) \u001b[39m<\u001b[39m numticks:\n\u001b[1;32m   1601\u001b[0m     \u001b[39m# Update the new tick label properties from the old.\u001b[39;00m\n\u001b[0;32m-> 1602\u001b[0m     tick \u001b[39m=\u001b[39m \u001b[39mself\u001b[39;49m\u001b[39m.\u001b[39;49m_get_tick(major\u001b[39m=\u001b[39;49m\u001b[39mTrue\u001b[39;49;00m)\n\u001b[1;32m   1603\u001b[0m     \u001b[39mself\u001b[39m\u001b[39m.\u001b[39mmajorTicks\u001b[39m.\u001b[39mappend(tick)\n\u001b[1;32m   1604\u001b[0m     \u001b[39mself\u001b[39m\u001b[39m.\u001b[39m_copy_tick_props(\u001b[39mself\u001b[39m\u001b[39m.\u001b[39mmajorTicks[\u001b[39m0\u001b[39m], tick)\n",
      "File \u001b[0;32m~/miniconda3/lib/python3.9/site-packages/matplotlib/axis.py:1551\u001b[0m, in \u001b[0;36mAxis._get_tick\u001b[0;34m(self, major)\u001b[0m\n\u001b[1;32m   1547\u001b[0m     \u001b[39mraise\u001b[39;00m \u001b[39mNotImplementedError\u001b[39;00m(\n\u001b[1;32m   1548\u001b[0m         \u001b[39mf\u001b[39m\u001b[39m\"\u001b[39m\u001b[39mThe Axis subclass \u001b[39m\u001b[39m{\u001b[39;00m\u001b[39mself\u001b[39m\u001b[39m.\u001b[39m\u001b[39m__class__\u001b[39m\u001b[39m.\u001b[39m\u001b[39m__name__\u001b[39m\u001b[39m}\u001b[39;00m\u001b[39m must define \u001b[39m\u001b[39m\"\u001b[39m\n\u001b[1;32m   1549\u001b[0m         \u001b[39m\"\u001b[39m\u001b[39m_tick_class or reimplement _get_tick()\u001b[39m\u001b[39m\"\u001b[39m)\n\u001b[1;32m   1550\u001b[0m tick_kw \u001b[39m=\u001b[39m \u001b[39mself\u001b[39m\u001b[39m.\u001b[39m_major_tick_kw \u001b[39mif\u001b[39;00m major \u001b[39melse\u001b[39;00m \u001b[39mself\u001b[39m\u001b[39m.\u001b[39m_minor_tick_kw\n\u001b[0;32m-> 1551\u001b[0m \u001b[39mreturn\u001b[39;00m \u001b[39mself\u001b[39;49m\u001b[39m.\u001b[39;49m_tick_class(\u001b[39mself\u001b[39;49m\u001b[39m.\u001b[39;49maxes, \u001b[39m0\u001b[39;49m, major\u001b[39m=\u001b[39;49mmajor, \u001b[39m*\u001b[39;49m\u001b[39m*\u001b[39;49mtick_kw)\n",
      "File \u001b[0;32m~/miniconda3/lib/python3.9/site-packages/matplotlib/axis.py:433\u001b[0m, in \u001b[0;36mXTick.__init__\u001b[0;34m(self, *args, **kwargs)\u001b[0m\n\u001b[1;32m    428\u001b[0m \u001b[39mself\u001b[39m\u001b[39m.\u001b[39mlabel1\u001b[39m.\u001b[39mset(\n\u001b[1;32m    429\u001b[0m     x\u001b[39m=\u001b[39m\u001b[39m0\u001b[39m, y\u001b[39m=\u001b[39m\u001b[39m0\u001b[39m,\n\u001b[1;32m    430\u001b[0m     verticalalignment\u001b[39m=\u001b[39mva, horizontalalignment\u001b[39m=\u001b[39mha, transform\u001b[39m=\u001b[39mtrans,\n\u001b[1;32m    431\u001b[0m )\n\u001b[1;32m    432\u001b[0m trans, va, ha \u001b[39m=\u001b[39m \u001b[39mself\u001b[39m\u001b[39m.\u001b[39m_get_text2_transform()\n\u001b[0;32m--> 433\u001b[0m \u001b[39mself\u001b[39;49m\u001b[39m.\u001b[39;49mlabel2\u001b[39m.\u001b[39;49mset(\n\u001b[1;32m    434\u001b[0m     x\u001b[39m=\u001b[39;49m\u001b[39m0\u001b[39;49m, y\u001b[39m=\u001b[39;49m\u001b[39m1\u001b[39;49m,\n\u001b[1;32m    435\u001b[0m     verticalalignment\u001b[39m=\u001b[39;49mva, horizontalalignment\u001b[39m=\u001b[39;49mha, transform\u001b[39m=\u001b[39;49mtrans,\n\u001b[1;32m    436\u001b[0m )\n",
      "File \u001b[0;32m~/miniconda3/lib/python3.9/site-packages/matplotlib/artist.py:147\u001b[0m, in \u001b[0;36mArtist.__init_subclass__.<locals>.<lambda>\u001b[0;34m(self, **kwargs)\u001b[0m\n\u001b[1;32m    139\u001b[0m \u001b[39mif\u001b[39;00m \u001b[39mnot\u001b[39;00m \u001b[39mhasattr\u001b[39m(\u001b[39mcls\u001b[39m\u001b[39m.\u001b[39mset, \u001b[39m'\u001b[39m\u001b[39m_autogenerated_signature\u001b[39m\u001b[39m'\u001b[39m):\n\u001b[1;32m    140\u001b[0m     \u001b[39m# Don't overwrite cls.set if the subclass or one of its parents\u001b[39;00m\n\u001b[1;32m    141\u001b[0m     \u001b[39m# has defined a set method set itself.\u001b[39;00m\n\u001b[1;32m    142\u001b[0m     \u001b[39m# If there was no explicit definition, cls.set is inherited from\u001b[39;00m\n\u001b[1;32m    143\u001b[0m     \u001b[39m# the hierarchy of auto-generated set methods, which hold the\u001b[39;00m\n\u001b[1;32m    144\u001b[0m     \u001b[39m# flag _autogenerated_signature.\u001b[39;00m\n\u001b[1;32m    145\u001b[0m     \u001b[39mreturn\u001b[39;00m\n\u001b[0;32m--> 147\u001b[0m \u001b[39mcls\u001b[39m\u001b[39m.\u001b[39mset \u001b[39m=\u001b[39m \u001b[39mlambda\u001b[39;00m \u001b[39mself\u001b[39m, \u001b[39m*\u001b[39m\u001b[39m*\u001b[39mkwargs: Artist\u001b[39m.\u001b[39;49mset(\u001b[39mself\u001b[39;49m, \u001b[39m*\u001b[39;49m\u001b[39m*\u001b[39;49mkwargs)\n\u001b[1;32m    148\u001b[0m \u001b[39mcls\u001b[39m\u001b[39m.\u001b[39mset\u001b[39m.\u001b[39m\u001b[39m__name__\u001b[39m \u001b[39m=\u001b[39m \u001b[39m\"\u001b[39m\u001b[39mset\u001b[39m\u001b[39m\"\u001b[39m\n\u001b[1;32m    149\u001b[0m \u001b[39mcls\u001b[39m\u001b[39m.\u001b[39mset\u001b[39m.\u001b[39m\u001b[39m__qualname__\u001b[39m \u001b[39m=\u001b[39m \u001b[39mf\u001b[39m\u001b[39m\"\u001b[39m\u001b[39m{\u001b[39;00m\u001b[39mcls\u001b[39m\u001b[39m.\u001b[39m\u001b[39m__qualname__\u001b[39m\u001b[39m}\u001b[39;00m\u001b[39m.set\u001b[39m\u001b[39m\"\u001b[39m\n",
      "File \u001b[0;32m~/miniconda3/lib/python3.9/site-packages/matplotlib/artist.py:1231\u001b[0m, in \u001b[0;36mArtist.set\u001b[0;34m(self, **kwargs)\u001b[0m\n\u001b[1;32m   1227\u001b[0m \u001b[39mdef\u001b[39;00m \u001b[39mset\u001b[39m(\u001b[39mself\u001b[39m, \u001b[39m*\u001b[39m\u001b[39m*\u001b[39mkwargs):\n\u001b[1;32m   1228\u001b[0m     \u001b[39m# docstring and signature are auto-generated via\u001b[39;00m\n\u001b[1;32m   1229\u001b[0m     \u001b[39m# Artist._update_set_signature_and_docstring() at the end of the\u001b[39;00m\n\u001b[1;32m   1230\u001b[0m     \u001b[39m# module.\u001b[39;00m\n\u001b[0;32m-> 1231\u001b[0m     \u001b[39mreturn\u001b[39;00m \u001b[39mself\u001b[39;49m\u001b[39m.\u001b[39;49m_internal_update(cbook\u001b[39m.\u001b[39;49mnormalize_kwargs(kwargs, \u001b[39mself\u001b[39;49m))\n",
      "File \u001b[0;32m~/miniconda3/lib/python3.9/site-packages/matplotlib/artist.py:1223\u001b[0m, in \u001b[0;36mArtist._internal_update\u001b[0;34m(self, kwargs)\u001b[0m\n\u001b[1;32m   1216\u001b[0m \u001b[39mdef\u001b[39;00m \u001b[39m_internal_update\u001b[39m(\u001b[39mself\u001b[39m, kwargs):\n\u001b[1;32m   1217\u001b[0m \u001b[39m    \u001b[39m\u001b[39m\"\"\"\u001b[39;00m\n\u001b[1;32m   1218\u001b[0m \u001b[39m    Update artist properties without prenormalizing them, but generating\u001b[39;00m\n\u001b[1;32m   1219\u001b[0m \u001b[39m    errors as if calling `set`.\u001b[39;00m\n\u001b[1;32m   1220\u001b[0m \n\u001b[1;32m   1221\u001b[0m \u001b[39m    The lack of prenormalization is to maintain backcompatibility.\u001b[39;00m\n\u001b[1;32m   1222\u001b[0m \u001b[39m    \"\"\"\u001b[39;00m\n\u001b[0;32m-> 1223\u001b[0m     \u001b[39mreturn\u001b[39;00m \u001b[39mself\u001b[39;49m\u001b[39m.\u001b[39;49m_update_props(\n\u001b[1;32m   1224\u001b[0m         kwargs, \u001b[39m\"\u001b[39;49m\u001b[39m{cls.__name__}\u001b[39;49;00m\u001b[39m.set() got an unexpected keyword argument \u001b[39;49m\u001b[39m\"\u001b[39;49m\n\u001b[1;32m   1225\u001b[0m         \u001b[39m\"\u001b[39;49m\u001b[39m{prop_name!r}\u001b[39;49;00m\u001b[39m\"\u001b[39;49m)\n",
      "File \u001b[0;32m~/miniconda3/lib/python3.9/site-packages/matplotlib/artist.py:1199\u001b[0m, in \u001b[0;36mArtist._update_props\u001b[0;34m(self, props, errfmt)\u001b[0m\n\u001b[1;32m   1196\u001b[0m             \u001b[39mif\u001b[39;00m \u001b[39mnot\u001b[39;00m \u001b[39mcallable\u001b[39m(func):\n\u001b[1;32m   1197\u001b[0m                 \u001b[39mraise\u001b[39;00m \u001b[39mAttributeError\u001b[39;00m(\n\u001b[1;32m   1198\u001b[0m                     errfmt\u001b[39m.\u001b[39mformat(\u001b[39mcls\u001b[39m\u001b[39m=\u001b[39m\u001b[39mtype\u001b[39m(\u001b[39mself\u001b[39m), prop_name\u001b[39m=\u001b[39mk))\n\u001b[0;32m-> 1199\u001b[0m             ret\u001b[39m.\u001b[39mappend(func(v))\n\u001b[1;32m   1200\u001b[0m \u001b[39mif\u001b[39;00m ret:\n\u001b[1;32m   1201\u001b[0m     \u001b[39mself\u001b[39m\u001b[39m.\u001b[39mpchanged()\n",
      "File \u001b[0;32m~/miniconda3/lib/python3.9/site-packages/matplotlib/artist.py:448\u001b[0m, in \u001b[0;36mArtist.set_transform\u001b[0;34m(self, t)\u001b[0m\n\u001b[1;32m    446\u001b[0m \u001b[39mself\u001b[39m\u001b[39m.\u001b[39m_transform \u001b[39m=\u001b[39m t\n\u001b[1;32m    447\u001b[0m \u001b[39mself\u001b[39m\u001b[39m.\u001b[39m_transformSet \u001b[39m=\u001b[39m \u001b[39mTrue\u001b[39;00m\n\u001b[0;32m--> 448\u001b[0m \u001b[39mself\u001b[39;49m\u001b[39m.\u001b[39;49mpchanged()\n\u001b[1;32m    449\u001b[0m \u001b[39mself\u001b[39m\u001b[39m.\u001b[39mstale \u001b[39m=\u001b[39m \u001b[39mTrue\u001b[39;00m\n",
      "File \u001b[0;32m~/miniconda3/lib/python3.9/site-packages/matplotlib/artist.py:428\u001b[0m, in \u001b[0;36mArtist.pchanged\u001b[0;34m(self)\u001b[0m\n\u001b[1;32m    417\u001b[0m \u001b[39mdef\u001b[39;00m \u001b[39mpchanged\u001b[39m(\u001b[39mself\u001b[39m):\n\u001b[1;32m    418\u001b[0m \u001b[39m    \u001b[39m\u001b[39m\"\"\"\u001b[39;00m\n\u001b[1;32m    419\u001b[0m \u001b[39m    Call all of the registered callbacks.\u001b[39;00m\n\u001b[1;32m    420\u001b[0m \n\u001b[0;32m   (...)\u001b[0m\n\u001b[1;32m    426\u001b[0m \u001b[39m    remove_callback\u001b[39;00m\n\u001b[1;32m    427\u001b[0m \u001b[39m    \"\"\"\u001b[39;00m\n\u001b[0;32m--> 428\u001b[0m     \u001b[39mself\u001b[39;49m\u001b[39m.\u001b[39;49m_callbacks\u001b[39m.\u001b[39;49mprocess(\u001b[39m\"\u001b[39;49m\u001b[39mpchanged\u001b[39;49m\u001b[39m\"\u001b[39;49m)\n",
      "File \u001b[0;32m~/miniconda3/lib/python3.9/site-packages/matplotlib/cbook/__init__.py:300\u001b[0m, in \u001b[0;36mCallbackRegistry.process\u001b[0;34m(self, s, *args, **kwargs)\u001b[0m\n\u001b[1;32m    298\u001b[0m \u001b[39mif\u001b[39;00m \u001b[39mself\u001b[39m\u001b[39m.\u001b[39m_signals \u001b[39mis\u001b[39;00m \u001b[39mnot\u001b[39;00m \u001b[39mNone\u001b[39;00m:\n\u001b[1;32m    299\u001b[0m     _api\u001b[39m.\u001b[39mcheck_in_list(\u001b[39mself\u001b[39m\u001b[39m.\u001b[39m_signals, signal\u001b[39m=\u001b[39ms)\n\u001b[0;32m--> 300\u001b[0m \u001b[39mfor\u001b[39;00m cid, ref \u001b[39min\u001b[39;00m \u001b[39mlist\u001b[39;49m(\u001b[39mself\u001b[39;49m\u001b[39m.\u001b[39;49mcallbacks\u001b[39m.\u001b[39;49mget(s, {})\u001b[39m.\u001b[39;49mitems()):\n\u001b[1;32m    301\u001b[0m     func \u001b[39m=\u001b[39m ref()\n\u001b[1;32m    302\u001b[0m     \u001b[39mif\u001b[39;00m func \u001b[39mis\u001b[39;00m \u001b[39mnot\u001b[39;00m \u001b[39mNone\u001b[39;00m:\n",
      "\u001b[0;31mKeyboardInterrupt\u001b[0m: "
     ]
    },
    {
     "data": {
      "image/png": "[encoded data removed]",
      "text/plain": [
       "<Figure size 640x480 with 1 Axes>"
      ]
     },
     "metadata": {},
     "output_type": "display_data"
    }
   ],
   "source": []
  }
 ],
 "metadata": {
  "kernelspec": {
   "display_name": "base",
   "language": "python",
   "name": "python3"
  },
  "language_info": {
   "codemirror_mode": {
    "name": "ipython",
    "version": 3
   },
   "file_extension": ".py",
   "mimetype": "text/x-python",
   "name": "python",
   "nbconvert_exporter": "python",
   "pygments_lexer": "ipython3",
   "version": "3.9.12"
  },
  "orig_nbformat": 4
 },
 "nbformat": 4,
 "nbformat_minor": 2
}
